{
 "cells": [
  {
   "cell_type": "markdown",
   "metadata": {},
   "source": [
    "# Self-Driving Car Engineer Nanodegree\n",
    "\n",
    "## Deep Learning\n",
    "\n",
    "## Project: Build a Traffic Sign Recognition Classifier\n",
    "\n",
    "In this notebook, a template is provided for you to implement your functionality in stages, which is required to successfully complete this project. If additional code is required that cannot be included in the notebook, be sure that the Python code is successfully imported and included in your submission if necessary. \n",
    "\n",
    "> **Note**: Once you have completed all of the code implementations, you need to finalize your work by exporting the iPython Notebook as an HTML document. Before exporting the notebook to html, all of the code cells need to have been run so that reviewers can see the final implementation and output. You can then export the notebook by using the menu above and navigating to  \\n\",\n",
    "    \"**File -> Download as -> HTML (.html)**. Include the finished document along with this notebook as your submission. \n",
    "\n",
    "In addition to implementing code, there is a writeup to complete. The writeup should be completed in a separate file, which can be either a markdown file or a pdf document. There is a [write up template](https://github.com/udacity/CarND-Traffic-Sign-Classifier-Project/blob/master/writeup_template.md) that can be used to guide the writing process. Completing the code template and writeup template will cover all of the [rubric points](https://review.udacity.com/#!/rubrics/481/view) for this project.\n",
    "\n",
    "The [rubric](https://review.udacity.com/#!/rubrics/481/view) contains \"Stand Out Suggestions\" for enhancing the project beyond the minimum requirements. The stand out suggestions are optional. If you decide to pursue the \"stand out suggestions\", you can include the code in this Ipython notebook and also discuss the results in the writeup file.\n",
    "\n",
    "\n",
    ">**Note:** Code and Markdown cells can be executed using the **Shift + Enter** keyboard shortcut. In addition, Markdown cells can be edited by typically double-clicking the cell to enter edit mode."
   ]
  },
  {
   "cell_type": "markdown",
   "metadata": {},
   "source": [
    "---\n",
    "## Step 0: Load The Data"
   ]
  },
  {
   "cell_type": "code",
   "execution_count": 1,
   "metadata": {},
   "outputs": [],
   "source": [
    "# Load pickled data\n",
    "import pickle\n",
    "import numpy as np\n",
    "import tensorflow as tf\n",
    "from sklearn.utils import shuffle\n",
    "import cv2\n",
    "\n",
    "# TODO: Fill this in based on where you saved the training and testing data\n",
    "\n",
    "training_file = 'data/train.p'\n",
    "validation_file= 'data/valid.p'\n",
    "testing_file = 'data/test.p'\n",
    "\n",
    "with open(training_file, mode='rb') as f:\n",
    "    train = pickle.load(f)\n",
    "with open(validation_file, mode='rb') as f:\n",
    "    valid = pickle.load(f)\n",
    "with open(testing_file, mode='rb') as f:\n",
    "    test = pickle.load(f)\n",
    "    \n",
    "X_train, y_train = train['features'], train['labels']\n",
    "X_valid, y_valid = valid['features'], valid['labels']\n",
    "X_test, y_test = test['features'], test['labels']"
   ]
  },
  {
   "cell_type": "code",
   "execution_count": 2,
   "metadata": {},
   "outputs": [
    {
     "name": "stdout",
     "output_type": "stream",
     "text": [
      "(34799, 32, 32, 3)\n",
      "(34799,)\n",
      "(4410, 32, 32, 3)\n",
      "(12630, 32, 32, 3)\n"
     ]
    }
   ],
   "source": [
    "print(X_train.shape)\n",
    "print(y_train.shape)\n",
    "print(X_valid.shape)\n",
    "print(X_test.shape)"
   ]
  },
  {
   "cell_type": "markdown",
   "metadata": {},
   "source": [
    "---\n",
    "\n",
    "## Step 1: Dataset Summary & Exploration\n",
    "\n",
    "The pickled data is a dictionary with 4 key/value pairs:\n",
    "\n",
    "- `'features'` is a 4D array containing raw pixel data of the traffic sign images, (num examples, width, height, channels).\n",
    "- `'labels'` is a 1D array containing the label/class id of the traffic sign. The file `signnames.csv` contains id -> name mappings for each id.\n",
    "- `'sizes'` is a list containing tuples, (width, height) representing the original width and height the image.\n",
    "- `'coords'` is a list containing tuples, (x1, y1, x2, y2) representing coordinates of a bounding box around the sign in the image. **THESE COORDINATES ASSUME THE ORIGINAL IMAGE. THE PICKLED DATA CONTAINS RESIZED VERSIONS (32 by 32) OF THESE IMAGES**\n",
    "\n",
    "Complete the basic data summary below. Use python, numpy and/or pandas methods to calculate the data summary rather than hard coding the results. For example, the [pandas shape method](http://pandas.pydata.org/pandas-docs/stable/generated/pandas.DataFrame.shape.html) might be useful for calculating some of the summary results. "
   ]
  },
  {
   "cell_type": "markdown",
   "metadata": {},
   "source": [
    "### Provide a Basic Summary of the Data Set Using Python, Numpy and/or Pandas"
   ]
  },
  {
   "cell_type": "code",
   "execution_count": 3,
   "metadata": {},
   "outputs": [
    {
     "name": "stdout",
     "output_type": "stream",
     "text": [
      "Number of training examples = 34799\n",
      "Number of testing examples = 12630\n",
      "Image data shape = (32, 32, 3)\n",
      "Number of classes = 43\n"
     ]
    }
   ],
   "source": [
    "### Replace each question mark with the appropriate value. \n",
    "### Use python, pandas or numpy methods rather than hard coding the results\n",
    "\n",
    "# TODO: Number of training examples\n",
    "n_train = len(X_train)\n",
    "\n",
    "# TODO: Number of validation examples\n",
    "n_validation = len(X_valid)\n",
    "\n",
    "# TODO: Number of testing examples.\n",
    "n_test = len(X_test)\n",
    "\n",
    "# TODO: What's the shape of an traffic sign image?\n",
    "image_shape = X_train[0].shape\n",
    "\n",
    "# TODO: How many unique classes/labels there are in the dataset.\n",
    "n_classes = len(np.unique(y_train))\n",
    "\n",
    "print(\"Number of training examples =\", n_train)\n",
    "print(\"Number of testing examples =\", n_test)\n",
    "print(\"Image data shape =\", image_shape)\n",
    "print(\"Number of classes =\", n_classes)"
   ]
  },
  {
   "cell_type": "markdown",
   "metadata": {},
   "source": [
    "### Include an exploratory visualization of the dataset"
   ]
  },
  {
   "cell_type": "markdown",
   "metadata": {},
   "source": [
    "Visualize the German Traffic Signs Dataset using the pickled file(s). This is open ended, suggestions include: plotting traffic sign images, plotting the count of each sign, etc. \n",
    "\n",
    "The [Matplotlib](http://matplotlib.org/) [examples](http://matplotlib.org/examples/index.html) and [gallery](http://matplotlib.org/gallery.html) pages are a great resource for doing visualizations in Python.\n",
    "\n",
    "**NOTE:** It's recommended you start with something simple first. If you wish to do more, come back to it after you've completed the rest of the sections. It can be interesting to look at the distribution of classes in the training, validation and test set. Is the distribution the same? Are there more examples of some classes than others?"
   ]
  },
  {
   "cell_type": "code",
   "execution_count": 4,
   "metadata": {},
   "outputs": [
    {
     "name": "stdout",
     "output_type": "stream",
     "text": [
      "19\n"
     ]
    },
    {
     "data": {
      "image/png": "[encoded data removed]",
      "text/plain": [
       "<matplotlib.figure.Figure at 0x7fbfd02e96a0>"
      ]
     },
     "metadata": {
      "needs_background": "light"
     },
     "output_type": "display_data"
    }
   ],
   "source": [
    "### Data exploration visualization code goes here.\n",
    "### Feel free to use as many code cells as needed.\n",
    "import matplotlib.pyplot as plt\n",
    "# Visualizations will be shown in the notebook.\n",
    "%matplotlib inline\n",
    "\n",
    "ind=np.random.randint(n_train)\n",
    "\n",
    "plt.imshow(X_train[ind])\n",
    "print(y_train[ind])"
   ]
  },
  {
   "cell_type": "markdown",
   "metadata": {},
   "source": [
    "----\n",
    "\n",
    "## Step 2: Design and Test a Model Architecture\n",
    "\n",
    "Design and implement a deep learning model that learns to recognize traffic signs. Train and test your model on the [German Traffic Sign Dataset](http://benchmark.ini.rub.de/?section=gtsrb&subsection=dataset).\n",
    "\n",
    "The LeNet-5 implementation shown in the [classroom](https://classroom.udacity.com/nanodegrees/nd013/parts/fbf77062-5703-404e-b60c-95b78b2f3f9e/modules/6df7ae49-c61c-4bb2-a23e-6527e69209ec/lessons/601ae704-1035-4287-8b11-e2c2716217ad/concepts/d4aca031-508f-4e0b-b493-e7b706120f81) at the end of the CNN lesson is a solid starting point. You'll have to change the number of classes and possibly the preprocessing, but aside from that it's plug and play! \n",
    "\n",
    "With the LeNet-5 solution from the lecture, you should expect a validation set accuracy of about 0.89. To meet specifications, the validation set accuracy will need to be at least 0.93. It is possible to get an even higher accuracy, but 0.93 is the minimum for a successful project submission. \n",
    "\n",
    "There are various aspects to consider when thinking about this problem:\n",
    "\n",
    "- Neural network architecture (is the network over or underfitting?)\n",
    "- Play around preprocessing techniques (normalization, rgb to grayscale, etc)\n",
    "- Number of examples per label (some have more than others).\n",
    "- Generate fake data.\n",
    "\n",
    "Here is an example of a [published baseline model on this problem](http://yann.lecun.com/exdb/publis/pdf/sermanet-ijcnn-11.pdf). It's not required to be familiar with the approach used in the paper but, it's good practice to try to read papers like these."
   ]
  },
  {
   "cell_type": "markdown",
   "metadata": {},
   "source": [
    "### Pre-process the Data Set (normalization, grayscale, etc.)"
   ]
  },
  {
   "cell_type": "markdown",
   "metadata": {},
   "source": [
    "Minimally, the image data should be normalized so that the data has mean zero and equal variance. For image data, `(pixel - 128)/ 128` is a quick way to approximately normalize the data and can be used in this project. \n",
    "\n",
    "Other pre-processing steps are optional. You can try different techniques to see if it improves performance. \n",
    "\n",
    "Use the code cell (or multiple code cells, if necessary) to implement the first step of your project."
   ]
  },
  {
   "cell_type": "code",
   "execution_count": 9,
   "metadata": {},
   "outputs": [],
   "source": [
    "### Preprocess the data here. It is required to normalize the data. Other preprocessing steps could include \n",
    "### converting to grayscale, etc.\n",
    "### Feel free to use as many code cells as needed.\n",
    "def normalzd_image(x):\n",
    "    x=grey_image(x)\n",
    "    x=equalize_hist(x)\n",
    "    x=np.reshape(x,[x.shape[0],x.shape[1],1])\n",
    "    a=0.1\n",
    "    b=0.9\n",
    "    normlzd=a+((b-a)*(x-np.min(x))/(np.max(x)-np.min(x)))\n",
    "    #normlzd=np.reshape(normlzd,[normlzd.shape[0],normlzd.shape[1],1])\n",
    "    return normlzd\n",
    "\n",
    "def grey_image(x):\n",
    "    gray= cv2.cvtColor(x,cv2.COLOR_RGB2GRAY)\n",
    "    return gray\n",
    "def equalize_hist(x):\n",
    "    clahe = cv2.createCLAHE(clipLimit=2.0, tileGridSize=(8,8))\n",
    "    cl1 = clahe.apply(x)\n",
    "    return cl1\n",
    "\n",
    "X_norm_tr=np.array([normalzd_image(X_train[i]) for i in range(len(X_train))])\n",
    "X_norm_val=np.array([normalzd_image(X_valid[i]) for i in range(len(X_valid))])\n",
    "X_norm_test=np.array([normalzd_image(X_test[i]) for i in range(len(X_test))])"
   ]
  },
  {
   "cell_type": "markdown",
   "metadata": {},
   "source": [
    "### Model Architecture"
   ]
  },
  {
   "cell_type": "code",
   "execution_count": 31,
   "metadata": {},
   "outputs": [],
   "source": [
    "### Define your architecture here.\n",
    "### Feel free to use as many code cells as needed.\n",
    "\n",
    "learning_rate=0.001\n",
    "epoch=100\n",
    "batch_size=128\n",
    "keep_prob=0.5\n",
    "\n",
    "def lenet(x):\n",
    "    mu=0\n",
    "    sigma=0.1\n",
    "    \n",
    "    weights={\n",
    "        'wc1':tf.Variable(tf.truncated_normal([5,5,1,6],mean=mu,stddev=sigma),tf.float32),\n",
    "        'wc2':tf.Variable(tf.truncated_normal([5,5,6,16],mean=mu,stddev=sigma),tf.float32),\n",
    "        'wc3':tf.Variable(tf.truncated_normal([400,120],mean=mu,stddev=sigma),tf.float32),\n",
    "        'wc4':tf.Variable(tf.truncated_normal([120,43],mean=mu,stddev=sigma),tf.float32),\n",
    "        #'wc5':tf.Variable(tf.truncated_normal([84,43],mean=mu,stddev=sigma),tf.float32)\n",
    "    }\n",
    "    \n",
    "    bias={\n",
    "        'b1':tf.Variable(tf.zeros([6])),\n",
    "        'b2':tf.Variable(tf.zeros([16])),\n",
    "        'b3':tf.Variable(tf.zeros([120])),\n",
    "        'b4':tf.Variable(tf.zeros([43])),\n",
    "        #'b5':tf.Variable(tf.zeros([43]))\n",
    "    }\n",
    "    \n",
    "    k=2\n",
    "    stride=[1,1,1,1]\n",
    "    \n",
    "    conv1_w=tf.nn.conv2d(x,weights['wc1'],stride,padding='VALID')\n",
    "    covn1_b=tf.nn.bias_add(conv1_w,bias['b1'])\n",
    "    conv1_relu=tf.nn.relu(covn1_b)\n",
    "    \n",
    "    conv1_pool=tf.nn.max_pool(conv1_relu,[1,k,k,1],[1,k,k,1],padding='VALID')\n",
    "    \n",
    "    conv2_w=tf.nn.conv2d(conv1_pool,weights['wc2'],stride,padding='VALID')\n",
    "    covn2_b=tf.nn.bias_add(conv2_w,bias['b2'])\n",
    "    conv2_relu=tf.nn.relu(covn2_b)\n",
    "    #conv2_relu = tf.nn.dropout(conv2_relu, keep_prob)\n",
    "    \n",
    "    conv2_pool=tf.nn.max_pool(conv2_relu,[1,k,k,1],[1,k,k,1],padding='VALID')\n",
    "    \n",
    "    conv2_flat=tf.reshape(conv2_pool,[-1,weights['wc3'].get_shape().as_list()[0]])\n",
    "    \n",
    "    conv3=tf.add(tf.matmul(conv2_flat,weights['wc3']),bias['b3'])\n",
    "    conv3_relu=tf.nn.relu(conv3)\n",
    "    conv3_relu = tf.nn.dropout(conv3_relu, keep_prob)\n",
    "    \n",
    "    conv4=tf.add(tf.matmul(conv3_relu,weights['wc4']),bias['b4'])\n",
    "#    conv4_relu=tf.nn.relu(conv4)\n",
    "#    conv4_relu = tf.nn.dropout(conv4_relu, keep_prob)\n",
    "    \n",
    "#    logits=tf.add(tf.matmul(conv4_relu,weights['wc5']),bias['b5'])\n",
    "    \n",
    "    return conv4\n",
    "\n",
    "x=tf.placeholder(tf.float32,(None,32,32,1),name='x')\n",
    "labels=tf.placeholder(tf.int32,(None),name='labels')\n",
    "one_hot_labels=tf.one_hot(labels,n_classes)\n",
    "\n",
    "logits=lenet(x)\n",
    "predictions=tf.nn.softmax(logits)\n",
    "cross_entropy=tf.nn.softmax_cross_entropy_with_logits(logits=logits,labels=one_hot_labels)\n",
    "cost=tf.reduce_mean(cross_entropy)\n",
    "optimizer = tf.train.AdamOptimizer(learning_rate=learning_rate).minimize(cost)\n",
    "\n",
    "correct_prediction=tf.equal(tf.argmax(predictions,1),tf.argmax(one_hot_labels,1))\n",
    "accuracy=tf.reduce_mean(tf.cast(correct_prediction,tf.float32))\n",
    "saver=tf.train.Saver()"
   ]
  },
  {
   "cell_type": "code",
   "execution_count": 29,
   "metadata": {},
   "outputs": [],
   "source": [
    "### Define your architecture here.\n",
    "### Feel free to use as many code cells as needed.\n",
    "\n",
    "learning_rate=0.0005\n",
    "epoch=100\n",
    "batch_size=128\n",
    "keep_prob=0.5\n",
    "\n",
    "def lenet(x):\n",
    "    mu=0\n",
    "    sigma=0.1\n",
    "\n",
    "    weights={\n",
    "        'wc1':tf.Variable(tf.truncated_normal([5,5,1,6],mean=mu,stddev=sigma),tf.float32),\n",
    "        'wc2':tf.Variable(tf.truncated_normal([5,5,6,16],mean=mu,stddev=sigma),tf.float32),\n",
    "        'wc3':tf.Variable(tf.truncated_normal([1576,400],mean=mu,stddev=sigma),tf.float32),\n",
    "        'wc4':tf.Variable(tf.truncated_normal([400,120],mean=mu,stddev=sigma),tf.float32),\n",
    "        'wc5':tf.Variable(tf.truncated_normal([120,43],mean=mu,stddev=sigma),tf.float32)\n",
    "    }\n",
    "\n",
    "    bias={\n",
    "        'b1':tf.Variable(tf.zeros([6])),\n",
    "        'b2':tf.Variable(tf.zeros([16])),\n",
    "        'b3':tf.Variable(tf.zeros([400])),\n",
    "        'b4':tf.Variable(tf.zeros([120])),\n",
    "        'b5':tf.Variable(tf.zeros([43]))\n",
    "    }\n",
    "\n",
    "    k=2\n",
    "    stride=[1,1,1,1]\n",
    "\n",
    "    conv1_w=tf.nn.conv2d(x,weights['wc1'],stride,padding='VALID')\n",
    "    covn1_b=tf.nn.bias_add(conv1_w,bias['b1'])\n",
    "    conv1_relu=tf.nn.relu(covn1_b)\n",
    "    #conv1_relu = tf.nn.dropout(conv1_relu, keep_prob)\n",
    "\n",
    "    conv1_pool=tf.nn.max_pool(conv1_relu,[1,k,k,1],[1,k,k,1],padding='VALID')\n",
    "\n",
    "    shap=conv1_pool.get_shape().as_list()\n",
    "    conv1_flat=tf.reshape(conv1_pool,[-1,shap[1]*shap[2]*shap[3]])\n",
    "\n",
    "    conv2_w=tf.nn.conv2d(conv1_pool,weights['wc2'],stride,padding='VALID')\n",
    "    covn2_b=tf.nn.bias_add(conv2_w,bias['b2'])\n",
    "    conv2_relu=tf.nn.relu(covn2_b)\n",
    "    #conv2_relu = tf.nn.dropout(conv2_relu, keep_prob)\n",
    "\n",
    "    conv2_pool=tf.nn.max_pool(conv2_relu,[1,k,k,1],[1,k,k,1],padding='VALID')\n",
    "    \n",
    "    shap1=conv2_pool.get_shape().as_list()\n",
    "    conv2_flat=tf.reshape(conv2_pool,[-1,shap1[1]*shap1[2]*shap1[3]])\n",
    "\n",
    "    comb_conv12=tf.concat([conv1_flat,conv2_flat],axis=1)\n",
    "    conv_comb_relu=tf.nn.relu(comb_conv12)\n",
    "    conv_comb_relu = tf.nn.dropout(conv_comb_relu, keep_prob)\n",
    "\n",
    "    conv3=tf.add(tf.matmul(comb_conv12,weights['wc3']),bias['b3'])\n",
    "    conv3_relu=tf.nn.relu(conv3)\n",
    "    conv3_relu = tf.nn.dropout(conv3_relu, keep_prob)\n",
    "\n",
    "    conv4=tf.add(tf.matmul(conv3_relu,weights['wc4']),bias['b4'])\n",
    "    conv4_relu=tf.nn.relu(conv4)\n",
    "    conv4_relu = tf.nn.dropout(conv4_relu, keep_prob)\n",
    "\n",
    "    logits=tf.add(tf.matmul(conv4_relu,weights['wc5']),bias['b5'])\n",
    "    \n",
    "    return logits\n",
    "\n",
    "\n",
    "x=tf.placeholder(tf.float32,(None,32,32,1),name='x')\n",
    "labels=tf.placeholder(tf.int32,(None),name='labels')\n",
    "one_hot_labels=tf.one_hot(labels,n_classes)\n",
    "\n",
    "logits=lenet(x)\n",
    "shaper=tf.shape(logits)\n",
    "predictions=tf.nn.softmax(logits)\n",
    "cross_entropy=tf.nn.softmax_cross_entropy_with_logits(logits=logits,labels=one_hot_labels)\n",
    "cost=tf.reduce_mean(cross_entropy)\n",
    "optimizer = tf.train.AdamOptimizer(learning_rate=learning_rate).minimize(cost)\n",
    "\n",
    "correct_prediction=tf.equal(tf.argmax(predictions,1),tf.argmax(one_hot_labels,1))\n",
    "accuracy=tf.reduce_mean(tf.cast(correct_prediction,tf.float32))\n",
    "saver=tf.train.Saver()"
   ]
  },
  {
   "cell_type": "code",
   "execution_count": 25,
   "metadata": {
    "scrolled": false
   },
   "outputs": [
    {
     "name": "stdout",
     "output_type": "stream",
     "text": [
      "Tensor(\"x_5:0\", shape=(?, 32, 32, 1), dtype=float32)\n",
      "Tensor(\"labels_5:0\", dtype=int32)\n",
      "Tensor(\"Mean_11:0\", dtype=float32)\n"
     ]
    }
   ],
   "source": [
    "print(x)\n",
    "print(labels)\n",
    "print(accuracy)"
   ]
  },
  {
   "cell_type": "markdown",
   "metadata": {},
   "source": [
    "# Train, Validate and Test the Model"
   ]
  },
  {
   "cell_type": "markdown",
   "metadata": {},
   "source": [
    "A validation set can be used to assess how well the model is performing. A low accuracy on the training and validation\n",
    "sets imply underfitting. A high accuracy on the training set but low accuracy on the validation set implies overfitting."
   ]
  },
  {
   "cell_type": "code",
   "execution_count": null,
   "metadata": {
    "scrolled": false
   },
   "outputs": [
    {
     "name": "stdout",
     "output_type": "stream",
     "text": [
      "Epoch 1...\n",
      "Train_Accuracy = 0.649\n",
      "Validation_Accuracy = 0.623\n",
      "\n",
      "Epoch 21...\n",
      "Train_Accuracy = 0.968\n",
      "Validation_Accuracy = 0.915\n",
      "\n",
      "Epoch 41...\n",
      "Train_Accuracy = 0.984\n",
      "Validation_Accuracy = 0.940\n",
      "\n",
      "Epoch 61...\n",
      "Train_Accuracy = 0.988\n",
      "Validation_Accuracy = 0.937\n",
      "\n",
      "Epoch 81...\n",
      "Train_Accuracy = 0.991\n",
      "Validation_Accuracy = 0.940\n",
      "\n"
     ]
    }
   ],
   "source": [
    "### Train your model here.\n",
    "### Calculate and report the accuracy on the training and validation set.\n",
    "### Once a final model architecture is selected, \n",
    "### the accuracy on the test set should be calculated and reported as well.\n",
    "### Feel free to use as many code cells as needed.\n",
    "\n",
    "x_val_shuffle,y_val_shuffle=shuffle(X_norm_val,y_valid)\n",
    "\n",
    "with tf.Session() as sess:\n",
    "    sess.run(tf.global_variables_initializer())\n",
    "    \n",
    "    train_accuracy=[]\n",
    "    valid_accuracy=[]\n",
    "    for i in range(epoch):\n",
    "        x_tr_shuffle,y_tr_shuffle=shuffle(X_norm_tr,y_train)\n",
    "        for start in range(0, n_train, batch_size):\n",
    "            batch_x=x_tr_shuffle[start:start+batch_size]\n",
    "            batch_y=y_tr_shuffle[start:start+batch_size]\n",
    "            sess.run(optimizer,feed_dict={x:batch_x,labels:batch_y})\n",
    "            \n",
    "        tr_acc=sess.run(accuracy,feed_dict={x:x_tr_shuffle,labels:y_tr_shuffle})\n",
    "        val_acc=sess.run(accuracy,feed_dict={x:x_val_shuffle,labels:y_val_shuffle})\n",
    "        \n",
    "        train_accuracy.append(tr_acc)\n",
    "        valid_accuracy.append(val_acc)\n",
    "        \n",
    "        if not i%20:\n",
    "            print(\"Epoch {}...\".format(i+1))\n",
    "            print(\"Train_Accuracy = {:.3f}\".format(tr_acc))\n",
    "            print(\"Validation_Accuracy = {:.3f}\\n\".format(val_acc))\n",
    "    \n",
    "    print(\"Max Train_Accuracy = {:.3f}\".format(max(train_accuracy)))\n",
    "    print(\"Max Validation_Accuracy = {:.3f}\\n\".format(max(valid_accuracy)))\n",
    "    \n",
    "    saver.save(sess, \"model1\")\n",
    "    print(\"Model Saved\")"
   ]
  },
  {
   "cell_type": "code",
   "execution_count": 27,
   "metadata": {},
   "outputs": [
    {
     "data": {
      "text/plain": [
       "(0, 100)"
      ]
     },
     "execution_count": 27,
     "metadata": {},
     "output_type": "execute_result"
    },
    {
     "data": {
      "image/png": "[encoded data removed]",
      "text/plain": [
       "<matplotlib.figure.Figure at 0x7fbfa3a9b240>"
      ]
     },
     "metadata": {
      "needs_background": "light"
     },
     "output_type": "display_data"
    }
   ],
   "source": [
    "plt.plot(range(len(train_accuracy)),train_accuracy)\n",
    "plt.plot(range(len(valid_accuracy)),valid_accuracy)\n",
    "plt.grid(True)\n",
    "plt.gca().set_ylim([0.8,1])\n",
    "plt.gca().set_xlim([0,100])"
   ]
  },
  {
   "cell_type": "code",
   "execution_count": null,
   "metadata": {
    "scrolled": false
   },
   "outputs": [],
   "source": [
    "with tf.Session() as sess:\n",
    "    saver = tf.train.import_meta_graph('model1.meta')\n",
    "    saver.restore(sess,tf.train.latest_checkpoint('./'))\n",
    "    \n",
    "    test_acc=sess.run(\"Mean_1:0\",feed_dict={\"x:0\":X_norm_test,\"labels:0\":y_test})\n",
    "    print(\"Test_Accuracy = {:.3f}\\n\".format(test_acc))"
   ]
  },
  {
   "cell_type": "code",
   "execution_count": null,
   "metadata": {},
   "outputs": [],
   "source": []
  },
  {
   "cell_type": "markdown",
   "metadata": {},
   "source": [
    "---\n",
    "\n",
    "## Step 3: Test a Model on New Images\n",
    "\n",
    "To give yourself more insight into how your model is working, download at least five pictures of German traffic signs from the web and use your model to predict the traffic sign type.\n",
    "\n",
    "You may find `signnames.csv` useful as it contains mappings from the class id (integer) to the actual sign name."
   ]
  },
  {
   "cell_type": "markdown",
   "metadata": {},
   "source": [
    "### Load and Output the Images"
   ]
  },
  {
   "cell_type": "code",
   "execution_count": null,
   "metadata": {},
   "outputs": [],
   "source": [
    "### Load the images and plot them here.\n",
    "### Feel free to use as many code cells as needed."
   ]
  },
  {
   "cell_type": "markdown",
   "metadata": {},
   "source": [
    "### Predict the Sign Type for Each Image"
   ]
  },
  {
   "cell_type": "code",
   "execution_count": null,
   "metadata": {},
   "outputs": [],
   "source": [
    "### Run the predictions here and use the model to output the prediction for each image.\n",
    "### Make sure to pre-process the images with the same pre-processing pipeline used earlier.\n",
    "### Feel free to use as many code cells as needed."
   ]
  },
  {
   "cell_type": "markdown",
   "metadata": {},
   "source": [
    "### Analyze Performance"
   ]
  },
  {
   "cell_type": "code",
   "execution_count": null,
   "metadata": {},
   "outputs": [],
   "source": [
    "### Calculate the accuracy for these 5 new images. \n",
    "### For example, if the model predicted 1 out of 5 signs correctly, it's 20% accurate on these new images."
   ]
  },
  {
   "cell_type": "markdown",
   "metadata": {},
   "source": [
    "### Output Top 5 Softmax Probabilities For Each Image Found on the Web"
   ]
  },
  {
   "cell_type": "markdown",
   "metadata": {},
   "source": [
    "For each of the new images, print out the model's softmax probabilities to show the **certainty** of the model's predictions (limit the output to the top 5 probabilities for each image). [`tf.nn.top_k`](https://www.tensorflow.org/versions/r0.12/api_docs/python/nn.html#top_k) could prove helpful here. \n",
    "\n",
    "The example below demonstrates how tf.nn.top_k can be used to find the top k predictions for each image.\n",
    "\n",
    "`tf.nn.top_k` will return the values and indices (class ids) of the top k predictions. So if k=3, for each sign, it'll return the 3 largest probabilities (out of a possible 43) and the correspoding class ids.\n",
    "\n",
    "Take this numpy array as an example. The values in the array represent predictions. The array contains softmax probabilities for five candidate images with six possible classes. `tf.nn.top_k` is used to choose the three classes with the highest probability:\n",
    "\n",
    "```\n",
    "# (5, 6) array\n",
    "a = np.array([[ 0.24879643,  0.07032244,  0.12641572,  0.34763842,  0.07893497,\n",
    "         0.12789202],\n",
    "       [ 0.28086119,  0.27569815,  0.08594638,  0.0178669 ,  0.18063401,\n",
    "         0.15899337],\n",
    "       [ 0.26076848,  0.23664738,  0.08020603,  0.07001922,  0.1134371 ,\n",
    "         0.23892179],\n",
    "       [ 0.11943333,  0.29198961,  0.02605103,  0.26234032,  0.1351348 ,\n",
    "         0.16505091],\n",
    "       [ 0.09561176,  0.34396535,  0.0643941 ,  0.16240774,  0.24206137,\n",
    "         0.09155967]])\n",
    "```\n",
    "\n",
    "Running it through `sess.run(tf.nn.top_k(tf.constant(a), k=3))` produces:\n",
    "\n",
    "```\n",
    "TopKV2(values=array([[ 0.34763842,  0.24879643,  0.12789202],\n",
    "       [ 0.28086119,  0.27569815,  0.18063401],\n",
    "       [ 0.26076848,  0.23892179,  0.23664738],\n",
    "       [ 0.29198961,  0.26234032,  0.16505091],\n",
    "       [ 0.34396535,  0.24206137,  0.16240774]]), indices=array([[3, 0, 5],\n",
    "       [0, 1, 4],\n",
    "       [0, 5, 1],\n",
    "       [1, 3, 5],\n",
    "       [1, 4, 3]], dtype=int32))\n",
    "```\n",
    "\n",
    "Looking just at the first row we get `[ 0.34763842,  0.24879643,  0.12789202]`, you can confirm these are the 3 largest probabilities in `a`. You'll also notice `[3, 0, 5]` are the corresponding indices."
   ]
  },
  {
   "cell_type": "code",
   "execution_count": null,
   "metadata": {},
   "outputs": [],
   "source": [
    "### Print out the top five softmax probabilities for the predictions on the German traffic sign images found on the web. \n",
    "### Feel free to use as many code cells as needed."
   ]
  },
  {
   "cell_type": "markdown",
   "metadata": {},
   "source": [
    "### Project Writeup\n",
    "\n",
    "Once you have completed the code implementation, document your results in a project writeup using this [template](https://github.com/udacity/CarND-Traffic-Sign-Classifier-Project/blob/master/writeup_template.md) as a guide. The writeup can be in a markdown or pdf file. "
   ]
  },
  {
   "cell_type": "markdown",
   "metadata": {},
   "source": [
    "> **Note**: Once you have completed all of the code implementations and successfully answered each question above, you may finalize your work by exporting the iPython Notebook as an HTML document. You can do this by using the menu above and navigating to  \\n\",\n",
    "    \"**File -> Download as -> HTML (.html)**. Include the finished document along with this notebook as your submission."
   ]
  },
  {
   "cell_type": "markdown",
   "metadata": {},
   "source": [
    "---\n",
    "\n",
    "## Step 4 (Optional): Visualize the Neural Network's State with Test Images\n",
    "\n",
    " This Section is not required to complete but acts as an additional excersise for understaning the output of a neural network's weights. While neural networks can be a great learning device they are often referred to as a black box. We can understand what the weights of a neural network look like better by plotting their feature maps. After successfully training your neural network you can see what it's feature maps look like by plotting the output of the network's weight layers in response to a test stimuli image. From these plotted feature maps, it's possible to see what characteristics of an image the network finds interesting. For a sign, maybe the inner network feature maps react with high activation to the sign's boundary outline or to the contrast in the sign's painted symbol.\n",
    "\n",
    " Provided for you below is the function code that allows you to get the visualization output of any tensorflow weight layer you want. The inputs to the function should be a stimuli image, one used during training or a new one you provided, and then the tensorflow variable name that represents the layer's state during the training process, for instance if you wanted to see what the [LeNet lab's](https://classroom.udacity.com/nanodegrees/nd013/parts/fbf77062-5703-404e-b60c-95b78b2f3f9e/modules/6df7ae49-c61c-4bb2-a23e-6527e69209ec/lessons/601ae704-1035-4287-8b11-e2c2716217ad/concepts/d4aca031-508f-4e0b-b493-e7b706120f81) feature maps looked like for it's second convolutional layer you could enter conv2 as the tf_activation variable.\n",
    "\n",
    "For an example of what feature map outputs look like, check out NVIDIA's results in their paper [End-to-End Deep Learning for Self-Driving Cars](https://devblogs.nvidia.com/parallelforall/deep-learning-self-driving-cars/) in the section Visualization of internal CNN State. NVIDIA was able to show that their network's inner weights had high activations to road boundary lines by comparing feature maps from an image with a clear path to one without. Try experimenting with a similar test to show that your trained network's weights are looking for interesting features, whether it's looking at differences in feature maps from images with or without a sign, or even what feature maps look like in a trained network vs a completely untrained one on the same sign image.\n",
    "\n",
    "<figure>\n",
    " <img src=\"visualize_cnn.png\" width=\"380\" alt=\"Combined Image\" />\n",
    " <figcaption>\n",
    " <p></p> \n",
    " <p style=\"text-align: center;\"> Your output should look something like this (above)</p> \n",
    " </figcaption>\n",
    "</figure>\n",
    " <p></p> \n"
   ]
  },
  {
   "cell_type": "code",
   "execution_count": null,
   "metadata": {},
   "outputs": [],
   "source": [
    "### Visualize your network's feature maps here.\n",
    "### Feel free to use as many code cells as needed.\n",
    "\n",
    "# image_input: the test image being fed into the network to produce the feature maps\n",
    "# tf_activation: should be a tf variable name used during your training procedure that represents the calculated state of a specific weight layer\n",
    "# activation_min/max: can be used to view the activation contrast in more detail, by default matplot sets min and max to the actual min and max values of the output\n",
    "# plt_num: used to plot out multiple different weight feature map sets on the same block, just extend the plt number for each new feature map entry\n",
    "\n",
    "def outputFeatureMap(image_input, tf_activation, activation_min=-1, activation_max=-1 ,plt_num=1):\n",
    "    # Here make sure to preprocess your image_input in a way your network expects\n",
    "    # with size, normalization, ect if needed\n",
    "    # image_input =\n",
    "    # Note: x should be the same name as your network's tensorflow data placeholder variable\n",
    "    # If you get an error tf_activation is not defined it may be having trouble accessing the variable from inside a function\n",
    "    activation = tf_activation.eval(session=sess,feed_dict={x : image_input})\n",
    "    featuremaps = activation.shape[3]\n",
    "    plt.figure(plt_num, figsize=(15,15))\n",
    "    for featuremap in range(featuremaps):\n",
    "        plt.subplot(6,8, featuremap+1) # sets the number of feature maps to show on each row and column\n",
    "        plt.title('FeatureMap ' + str(featuremap)) # displays the feature map number\n",
    "        if activation_min != -1 & activation_max != -1:\n",
    "            plt.imshow(activation[0,:,:, featuremap], interpolation=\"nearest\", vmin =activation_min, vmax=activation_max, cmap=\"gray\")\n",
    "        elif activation_max != -1:\n",
    "            plt.imshow(activation[0,:,:, featuremap], interpolation=\"nearest\", vmax=activation_max, cmap=\"gray\")\n",
    "        elif activation_min !=-1:\n",
    "            plt.imshow(activation[0,:,:, featuremap], interpolation=\"nearest\", vmin=activation_min, cmap=\"gray\")\n",
    "        else:\n",
    "            plt.imshow(activation[0,:,:, featuremap], interpolation=\"nearest\", cmap=\"gray\")"
   ]
  }
 ],
 "metadata": {
  "anaconda-cloud": {},
  "kernelspec": {
   "display_name": "Python 3",
   "language": "python",
   "name": "python3"
  },
  "language_info": {
   "codemirror_mode": {
    "name": "ipython",
    "version": 3
   },
   "file_extension": ".py",
   "mimetype": "text/x-python",
   "name": "python",
   "nbconvert_exporter": "python",
   "pygments_lexer": "ipython3",
   "version": "3.6.3"
  }
 },
 "nbformat": 4,
 "nbformat_minor": 1
}
